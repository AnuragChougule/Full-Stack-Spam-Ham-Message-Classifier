{
  "cells": [
    {
      "cell_type": "code",
      "execution_count": null,
      "id": "1815f1d1",
      "metadata": {
        "colab": {
          "base_uri": "https://localhost:8080/"
        },
        "id": "1815f1d1",
        "outputId": "b2700bee-f891-4a47-f4ac-97e5afe66364"
      },
      "outputs": [
        {
          "output_type": "stream",
          "name": "stderr",
          "text": [
            "[nltk_data] Downloading package stopwords to /root/nltk_data...\n",
            "[nltk_data]   Unzipping corpora/stopwords.zip.\n"
          ]
        }
      ],
      "source": [
        "\n",
        "import pandas as pd\n",
        "import re\n",
        "import nltk\n",
        "from nltk.corpus import stopwords\n",
        "from sklearn.model_selection import train_test_split\n",
        "from sklearn.feature_extraction.text import TfidfVectorizer\n",
        "from sklearn.linear_model import LogisticRegression\n",
        "from sklearn.metrics import accuracy_score, classification_report, confusion_matrix\n",
        "import joblib\n",
        "import matplotlib.pyplot as plt\n",
        "import seaborn as sns\n",
        "\n",
        "nltk.download('stopwords')\n",
        "stop_words = set(stopwords.words('english'))\n",
        "\n",
        "def clean_text(text):\n",
        "    text = re.sub(r'[^a-zA-Z\\s]', '', text)\n",
        "    text = text.lower()\n",
        "    text = ' '.join([word for word in text.split() if word not in stop_words])\n",
        "    return text\n"
      ]
    },
    {
      "cell_type": "code",
      "execution_count": null,
      "id": "928aea6c",
      "metadata": {
        "id": "928aea6c"
      },
      "outputs": [],
      "source": [
        "\n",
        "# Load your dataset\n",
        "# Make sure the dataset is placed appropriately, or adjust the path accordingly\n",
        "data = pd.read_csv('/content/large_sms_spam_dataset.csv')  # Replace with actual dataset path\n",
        "data['cleaned_text'] = data['text'].apply(clean_text)\n"
      ]
    },
    {
      "cell_type": "code",
      "execution_count": null,
      "id": "81017c2c",
      "metadata": {
        "id": "81017c2c"
      },
      "outputs": [],
      "source": [
        "\n",
        "tfidf = TfidfVectorizer(max_features=5000, stop_words='english')\n",
        "X = tfidf.fit_transform(data['cleaned_text'])\n",
        "y = data['label'].apply(lambda x: 1 if x == 'spam' else 0)\n",
        "\n",
        "X_train, X_test, y_train, y_test = train_test_split(X, y, test_size=0.2, random_state=42)\n"
      ]
    },
    {
      "cell_type": "code",
      "execution_count": null,
      "id": "bb3e5eba",
      "metadata": {
        "colab": {
          "base_uri": "https://localhost:8080/",
          "height": 673
        },
        "id": "bb3e5eba",
        "outputId": "ea8f91f1-ed3d-42b8-f80a-aab1a2d17b20"
      },
      "outputs": [
        {
          "output_type": "stream",
          "name": "stdout",
          "text": [
            "Accuracy: 1.0\n",
            "Classification Report:\n",
            "               precision    recall  f1-score   support\n",
            "\n",
            "           0       1.00      1.00      1.00      2409\n",
            "           1       1.00      1.00      1.00      1591\n",
            "\n",
            "    accuracy                           1.00      4000\n",
            "   macro avg       1.00      1.00      1.00      4000\n",
            "weighted avg       1.00      1.00      1.00      4000\n",
            "\n"
          ]
        },
        {
          "output_type": "display_data",
          "data": {
            "text/plain": [
              "<Figure size 640x480 with 2 Axes>"
            ],
            "image/png": "[encoded data removed]"
          },
          "metadata": {}
        }
      ],
      "source": [
        "\n",
        "model = LogisticRegression()\n",
        "model.fit(X_train, y_train)\n",
        "\n",
        "y_pred = model.predict(X_test)\n",
        "\n",
        "print(\"Accuracy:\", accuracy_score(y_test, y_pred))\n",
        "print(\"Classification Report:\\n\", classification_report(y_test, y_pred))\n",
        "\n",
        "conf_matrix = confusion_matrix(y_test, y_pred)\n",
        "sns.heatmap(conf_matrix, annot=True, fmt='d', cmap='Blues', xticklabels=['Ham', 'Spam'], yticklabels=['Ham', 'Spam'])\n",
        "plt.xlabel('Predicted')\n",
        "plt.ylabel('True')\n",
        "plt.title('Confusion Matrix')\n",
        "plt.show()\n"
      ]
    },
    {
      "source": [
        "import os\n",
        "import joblib\n",
        "\n",
        "# Create the directory if it doesn't exist\n",
        "os.makedirs('backend/model/', exist_ok=True)\n",
        "\n",
        "joblib.dump(model, 'backend/model/model.pkl')\n",
        "joblib.dump(tfidf, 'backend/model/vectorizer.pkl')\n",
        "print(\"Model and vectorizer saved to backend/model/\")"
      ],
      "cell_type": "code",
      "metadata": {
        "colab": {
          "base_uri": "https://localhost:8080/"
        },
        "id": "poefYFIzXmWz",
        "outputId": "23377f0e-1839-46b2-f6d1-70090bd655b3"
      },
      "id": "poefYFIzXmWz",
      "execution_count": null,
      "outputs": [
        {
          "output_type": "stream",
          "name": "stdout",
          "text": [
            "Model and vectorizer saved to backend/model/\n"
          ]
        }
      ]
    },
    {
      "cell_type": "code",
      "execution_count": null,
      "id": "a225191b",
      "metadata": {
        "colab": {
          "base_uri": "https://localhost:8080/"
        },
        "id": "a225191b",
        "outputId": "9e617f83-c072-40b5-86e6-7cd90223ef96"
      },
      "outputs": [
        {
          "output_type": "stream",
          "name": "stdout",
          "text": [
            "Prediction: Spam\n"
          ]
        }
      ],
      "source": [
        "\n",
        "def predict_message(message):\n",
        "    cleaned = clean_text(message)\n",
        "    vectorized = tfidf.transform([cleaned])\n",
        "    pred = model.predict(vectorized)[0]\n",
        "    return 'Spam' if pred == 1 else 'Ham'\n",
        "\n",
        "# Test example\n",
        "message = \"Congratulations! Your mobile number has WON $1,000,000 in the Global Mobile Lottery 2025! To claim, send your name and address to win@globaldraws.com..\"\n",
        "print(f\"Prediction: {predict_message(message)}\")\n"
      ]
    },
    {
      "cell_type": "code",
      "source": [
        "# prompt: give code to download this backend folder\n",
        "\n",
        "from google.colab import files\n",
        "import os\n",
        "\n",
        "# Ensure the directory exists before attempting to zip\n",
        "if os.path.exists('backend/model/'):\n",
        "  # Zip the directory\n",
        "  !zip -r /content/backend_model.zip backend/model/\n",
        "  # Download the zip file\n",
        "  files.download('/content/backend_model.zip')\n",
        "else:\n",
        "  print(\"Directory 'backend/model/' not found. Please ensure the model and vectorizer were saved correctly.\")"
      ],
      "metadata": {
        "colab": {
          "base_uri": "https://localhost:8080/",
          "height": 89
        },
        "id": "mPJmnP5AXqEg",
        "outputId": "768588a3-23f3-4d6c-f15b-f1b86e694f5d"
      },
      "id": "mPJmnP5AXqEg",
      "execution_count": null,
      "outputs": [
        {
          "output_type": "stream",
          "name": "stdout",
          "text": [
            "  adding: backend/model/ (stored 0%)\n",
            "  adding: backend/model/vectorizer.pkl (deflated 56%)\n",
            "  adding: backend/model/model.pkl (deflated 40%)\n"
          ]
        },
        {
          "output_type": "display_data",
          "data": {
            "text/plain": [
              "<IPython.core.display.Javascript object>"
            ],
            "application/javascript": [
              "\n",
              "    async function download(id, filename, size) {\n",
              "      if (!google.colab.kernel.accessAllowed) {\n",
              "        return;\n",
              "      }\n",
              "      const div = document.createElement('div');\n",
              "      const label = document.createElement('label');\n",
              "      label.textContent = `Downloading \"${filename}\": `;\n",
              "      div.appendChild(label);\n",
              "      const progress = document.createElement('progress');\n",
              "      progress.max = size;\n",
              "      div.appendChild(progress);\n",
              "      document.body.appendChild(div);\n",
              "\n",
              "      const buffers = [];\n",
              "      let downloaded = 0;\n",
              "\n",
              "      const channel = await google.colab.kernel.comms.open(id);\n",
              "      // Send a message to notify the kernel that we're ready.\n",
              "      channel.send({})\n",
              "\n",
              "      for await (const message of channel.messages) {\n",
              "        // Send a message to notify the kernel that we're ready.\n",
              "        channel.send({})\n",
              "        if (message.buffers) {\n",
              "          for (const buffer of message.buffers) {\n",
              "            buffers.push(buffer);\n",
              "            downloaded += buffer.byteLength;\n",
              "            progress.value = downloaded;\n",
              "          }\n",
              "        }\n",
              "      }\n",
              "      const blob = new Blob(buffers, {type: 'application/binary'});\n",
              "      const a = document.createElement('a');\n",
              "      a.href = window.URL.createObjectURL(blob);\n",
              "      a.download = filename;\n",
              "      div.appendChild(a);\n",
              "      a.click();\n",
              "      div.remove();\n",
              "    }\n",
              "  "
            ]
          },
          "metadata": {}
        },
        {
          "output_type": "display_data",
          "data": {
            "text/plain": [
              "<IPython.core.display.Javascript object>"
            ],
            "application/javascript": [
              "download(\"download_a58c6897-cba2-4308-82a6-2c38e999a833\", \"backend_model.zip\", 3034)"
            ]
          },
          "metadata": {}
        }
      ]
    },
    {
      "cell_type": "code",
      "source": [],
      "metadata": {
        "id": "HIBT6CUkX3Dv"
      },
      "id": "HIBT6CUkX3Dv",
      "execution_count": null,
      "outputs": []
    }
  ],
  "metadata": {
    "colab": {
      "provenance": []
    },
    "language_info": {
      "name": "python"
    },
    "kernelspec": {
      "name": "python3",
      "display_name": "Python 3"
    }
  },
  "nbformat": 4,
  "nbformat_minor": 5
}
